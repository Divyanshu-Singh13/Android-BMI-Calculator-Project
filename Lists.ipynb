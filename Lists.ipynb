{
 "cells": [
  {
   "cell_type": "markdown",
   "metadata": {},
   "source": [
    "# Lists"
   ]
  },
  {
   "cell_type": "code",
   "execution_count": 87,
   "metadata": {},
   "outputs": [
    {
     "name": "stdout",
     "output_type": "stream",
     "text": [
      "[1, 2, 'Python', 4, 10]\n",
      "[1, 2, 'Python', 4, 10, 125]\n",
      "[1, 2, 'Python', 4, 10, 125, 7, 8, 9, 5]\n",
      "[5, 7, 8, 9]\n",
      "[2, 1, 4, 5, 8, ['science']]\n",
      "2\n",
      "6\n",
      "1\n",
      "0\n",
      "2\n",
      "[2, 1, 4, 5, 8, ['science']]\n"
     ]
    }
   ],
   "source": [
    "a=[1,2,\"Python\",4,10]\n",
    "print(a)\n",
    "a.append(125)\n",
    "print(a)\n",
    "b=[7,8,9,5]\n",
    "c=a+b\n",
    "b.sort()\n",
    "print(c)\n",
    "print(b)\n",
    "b.reverse()\n",
    "b\n",
    "a.pop()\n",
    "a\n",
    "d=[2,1,4,5,8,[\"science\"]]\n",
    "print(d)\n",
    "print(d[-6])\n",
    "print(len(d))\n",
    "print(d.count(1))\n",
    "print(d.index(2))\n",
    "print(a.index(\"Python\"))\n",
    "print(d[:6])"
   ]
  },
  {
   "cell_type": "code",
   "execution_count": null,
   "metadata": {},
   "outputs": [],
   "source": []
  }
 ],
 "metadata": {
  "kernelspec": {
   "display_name": "Python 3",
   "language": "python",
   "name": "python3"
  },
  "language_info": {
   "codemirror_mode": {
    "name": "ipython",
    "version": 3
   },
   "file_extension": ".py",
   "mimetype": "text/x-python",
   "name": "python",
   "nbconvert_exporter": "python",
   "pygments_lexer": "ipython3",
   "version": "3.8.5"
  }
 },
 "nbformat": 4,
 "nbformat_minor": 4
}
