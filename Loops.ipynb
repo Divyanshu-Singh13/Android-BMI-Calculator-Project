{
 "cells": [
  {
   "cell_type": "code",
   "execution_count": 8,
   "metadata": {},
   "outputs": [
    {
     "name": "stdout",
     "output_type": "stream",
     "text": [
      "Enter number to get its multiplication table:5\n",
      "Till how many times you want the number to get multiplied:11\n",
      "5 x 1 =5 \n",
      "5 x 2 =10 \n",
      "5 x 3 =15 \n",
      "5 x 4 =20 \n",
      "5 x 5 =25 \n",
      "5 x 6 =30 \n",
      "5 x 7 =35 \n",
      "5 x 8 =40 \n",
      "5 x 9 =45 \n",
      "5 x 10 =50 \n"
     ]
    }
   ],
   "source": [
    "num=int(input(\"Enter number to get its multiplication table:\"))\n",
    "value=int(input(\"Till how many times you want the number to get multiplied:\"))\n",
    "for value in range(1,value):\n",
    "    var=num*value\n",
    "    print(\"{} x {} ={} \".format(num,value,var))"
   ]
  },
  {
   "cell_type": "code",
   "execution_count": 1,
   "metadata": {},
   "outputs": [
    {
     "name": "stdout",
     "output_type": "stream",
     "text": [
      "Enter the Number To get the table:7\n",
      "Enter a number to start multiplication from:1\n",
      "7 x 1=7\n",
      "7 x 2=14\n",
      "7 x 3=21\n",
      "7 x 4=28\n",
      "7 x 5=35\n",
      "7 x 6=42\n",
      "7 x 7=49\n",
      "7 x 9=63\n",
      "7 x 10=70\n"
     ]
    }
   ],
   "source": [
    "num=int(input(\"Enter the Number To get the table:\"))\n",
    "value=int(input(\"Enter a number to start multiplication from:\"))\n",
    "while(value<=10):\n",
    "    if value==8:\n",
    "        value=value+1\n",
    "        continue\n",
    "    mul=num*value\n",
    "    print(\"{} x {}={}\".format(num,value,mul))\n",
    "    value=value+1"
   ]
  },
  {
   "cell_type": "code",
   "execution_count": null,
   "metadata": {},
   "outputs": [],
   "source": []
  },
  {
   "cell_type": "code",
   "execution_count": null,
   "metadata": {},
   "outputs": [],
   "source": []
  }
 ],
 "metadata": {
  "kernelspec": {
   "display_name": "Python 3",
   "language": "python",
   "name": "python3"
  },
  "language_info": {
   "codemirror_mode": {
    "name": "ipython",
    "version": 3
   },
   "file_extension": ".py",
   "mimetype": "text/x-python",
   "name": "python",
   "nbconvert_exporter": "python",
   "pygments_lexer": "ipython3",
   "version": "3.8.5"
  }
 },
 "nbformat": 4,
 "nbformat_minor": 4
}
